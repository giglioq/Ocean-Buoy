{
 "cells": [
  {
   "cell_type": "code",
   "execution_count": 1,
   "metadata": {},
   "outputs": [],
   "source": [
    "import numpy as np\n",
    "import pandas as pd\n",
    "from scipy import signal\n",
    "from scipy.integrate import cumtrapz\n",
    "import matplotlib.pyplot as plt\n",
    "import seaborn as sns\n",
    "sns.set_context(\"paper\", font_scale=1.3, rc={\"lines.linewidth\": 2.5})\n",
    "%matplotlib inline\n",
    "plt.style.use('seaborn-pastel')"
   ]
  },
  {
   "cell_type": "code",
   "execution_count": 2,
   "metadata": {},
   "outputs": [],
   "source": [
    "import dash\n",
    "import dash_bootstrap_components as dbc\n",
    "import dash_html_components as html\n",
    "import dash_core_components as dcc\n",
    "from dash.dependencies import Input, Output, State\n",
    "import webbrowser\n",
    "from threading import Timer"
   ]
  },
  {
   "cell_type": "code",
   "execution_count": 3,
   "metadata": {
    "scrolled": true
   },
   "outputs": [
    {
     "name": "stdout",
     "output_type": "stream",
     "text": [
      "Notebook initialized with ipy backend.\n"
     ]
    }
   ],
   "source": [
    "from mayavi import mlab \n",
    "mlab.init_notebook('ipy', 500, 500)\n",
    "%gui qt"
   ]
  },
  {
   "cell_type": "code",
   "execution_count": 4,
   "metadata": {},
   "outputs": [],
   "source": [
    "from buoy_methods import *"
   ]
  },
  {
   "cell_type": "code",
   "execution_count": 5,
   "metadata": {},
   "outputs": [
    {
     "name": "stdout",
     "output_type": "stream",
     "text": [
      "(-0.3635 +0.3058i +0.8167j +0.3277k)\n"
     ]
    }
   ],
   "source": [
    "q1 = Quaternion(0.55747131, 0.12956903, 0.5736954 , 0.58592763)\n",
    "q2 = Quaternion(0.49753507, 0.50806522, 0.52711628, 0.4652709)\n",
    "\n",
    "print(q1*q2)\n",
    "# expect '(-0.3635 +0.3896i +0.3419j +0.7740k)'  we get the normalized version of this\n",
    "\n",
    "q3 = q1*q2"
   ]
  },
  {
   "cell_type": "markdown",
   "metadata": {},
   "source": [
    "# Raw Data\n",
    "\n",
    "### Acceleration [N, 3]\n",
    "x, y, and z acceleration in the sensor frame\n",
    "\n",
    "### Magnetic Field [N, 3]\n",
    "\n",
    "x, y, z strength of the magnetic field in the sensor frame\n",
    "\n",
    "### Angular Velocity [N, 3]\n",
    "\n",
    "x, y, z angular velocity around the x y and z axes\n",
    "\n",
    "### Height [N, 1]\n",
    "\n",
    "Altitude\n",
    "\n",
    "### Time [N, 1]\n",
    "\n",
    "Given in seconds\n",
    "\n"
   ]
  },
  {
   "cell_type": "raw",
   "metadata": {},
   "source": [
    "def make_fake_data(n):\n",
    "    labels = ['ax','ay','az','bx','by','bz','wx','wy','wz','h','t']\n",
    "    df = pd.DataFrame(columns=labels)\n",
    "    t = np.linspace(0, 1, n)*100\n",
    "    noise = np.random.normal(0,1,n)\n",
    "    df.t = t\n",
    "    df.ax = np.sin(t*.3)*50\n",
    "    df.ay = [0]*n\n",
    "    df.az = [-10]*n\n",
    "    df.bx = [1]*n\n",
    "    df.by = [0]*n\n",
    "    df.bz = [0]*n\n",
    "    df.wx = [0]*n #+ np.random.normal(0,1,n)\n",
    "    df.wy = [0]*n\n",
    "    df.wz = [1]*n\n",
    "    df.h = [3.33]*n\n",
    "    df.to_excel(\"data/fake_data.xlsx\")\n",
    "    return df\n",
    "    \n",
    "df = make_fake_data(1024)\n",
    "print(df.head())\n",
    "print(df.info())\n",
    "df.drop('t',axis=1).plot()"
   ]
  },
  {
   "cell_type": "raw",
   "metadata": {
    "scrolled": false
   },
   "source": [
    "df = pd.read_csv(\"data/first data with circuit in buoy.csv\")\n",
    "print(df.head())\n",
    "print(df.info())\n",
    "df.drop('t',axis=1).plot()"
   ]
  },
  {
   "cell_type": "code",
   "execution_count": 6,
   "metadata": {},
   "outputs": [
    {
     "name": "stdout",
     "output_type": "stream",
     "text": [
      "             t    Ax    Ay    Az    wx    wy    wz    Bx     By     Bz   qw  \\\n",
      "0   852.371931 -0.67 -0.35  9.58 -0.13 -0.13 -0.06 -8.06  33.69 -42.69  1.0   \n",
      "1  1176.917315 -0.67 -0.37  9.56  0.06 -0.19  0.00 -7.75  33.25 -42.69  1.0   \n",
      "2  1504.410267 -0.69 -0.37  9.58 -0.13  0.25 -0.13 -7.38  33.25 -42.69  1.0   \n",
      "3  1828.675270 -0.69 -0.33  9.58  0.06 -0.06 -0.13 -7.75  32.88 -43.06  1.0   \n",
      "4  2156.310320 -0.68 -0.36  9.59 -0.06  0.06  0.06 -7.75  32.88 -41.88  1.0   \n",
      "\n",
      "     qx    qy   qz  \n",
      "0 -0.02  0.04  0.0  \n",
      "1 -0.02  0.04  0.0  \n",
      "2 -0.02  0.04  0.0  \n",
      "3 -0.02  0.04  0.0  \n",
      "4 -0.02  0.04  0.0  \n",
      "<class 'pandas.core.frame.DataFrame'>\n",
      "RangeIndex: 1024 entries, 0 to 1023\n",
      "Data columns (total 14 columns):\n",
      " #   Column  Non-Null Count  Dtype  \n",
      "---  ------  --------------  -----  \n",
      " 0   t       1024 non-null   float64\n",
      " 1   Ax      1024 non-null   float64\n",
      " 2   Ay      1024 non-null   float64\n",
      " 3   Az      1024 non-null   float64\n",
      " 4   wx      1024 non-null   float64\n",
      " 5   wy      1024 non-null   float64\n",
      " 6   wz      1024 non-null   float64\n",
      " 7   Bx      1024 non-null   float64\n",
      " 8   By      1024 non-null   float64\n",
      " 9   Bz      1024 non-null   float64\n",
      " 10  qw      1024 non-null   float64\n",
      " 11  qx      1024 non-null   float64\n",
      " 12  qy      1024 non-null   float64\n",
      " 13  qz      1024 non-null   float64\n",
      "dtypes: float64(14)\n",
      "memory usage: 112.1 KB\n",
      "None\n"
     ]
    },
    {
     "data": {
      "text/plain": [
       "<matplotlib.axes._subplots.AxesSubplot at 0x224289bb670>"
      ]
     },
     "execution_count": 6,
     "metadata": {},
     "output_type": "execute_result"
    },
    {
     "data": {
      "image/png": "[encoded data removed]",
      "text/plain": [
       "<Figure size 432x288 with 1 Axes>"
      ]
     },
     "metadata": {
      "needs_background": "light"
     },
     "output_type": "display_data"
    }
   ],
   "source": [
    "df  =  pd.read_csv(\"data/first quaternion data.csv\")\n",
    "print(df.head())\n",
    "print(df.info())\n",
    "df.drop('t',axis=1).plot()"
   ]
  },
  {
   "cell_type": "code",
   "execution_count": 7,
   "metadata": {
    "cell_style": "split"
   },
   "outputs": [
    {
     "data": {
      "text/plain": [
       "<matplotlib.axes._subplots.AxesSubplot at 0x2242ab152e0>"
      ]
     },
     "execution_count": 7,
     "metadata": {},
     "output_type": "execute_result"
    },
    {
     "data": {
      "image/png": "[encoded data removed]",
      "text/plain": [
       "<Figure size 432x288 with 1 Axes>"
      ]
     },
     "metadata": {
      "needs_background": "light"
     },
     "output_type": "display_data"
    }
   ],
   "source": [
    "i=1\n",
    "while i:\n",
    "    try:\n",
    "        df = df.apply(signal.savgol_filter, args=(53,6)) #x, window_length, polyorder,\n",
    "    except:\n",
    "        continue\n",
    "    i=0\n",
    "df.drop('t',axis=1).plot()"
   ]
  },
  {
   "cell_type": "markdown",
   "metadata": {
    "cell_style": "split"
   },
   "source": [
    "Further smoothing is possible with a rolling average. This makes things very smooth but at the cost of amplitude data"
   ]
  },
  {
   "cell_type": "code",
   "execution_count": 8,
   "metadata": {
    "cell_style": "split",
    "scrolled": true
   },
   "outputs": [
    {
     "data": {
      "text/plain": [
       "<matplotlib.axes._subplots.AxesSubplot at 0x2242cbccc40>"
      ]
     },
     "execution_count": 8,
     "metadata": {},
     "output_type": "execute_result"
    },
    {
     "data": {
      "image/png": "[encoded data removed]",
      "text/plain": [
       "<Figure size 432x288 with 1 Axes>"
      ]
     },
     "metadata": {
      "needs_background": "light"
     },
     "output_type": "display_data"
    }
   ],
   "source": [
    "df = df.rolling(30).mean()\n",
    "df.drop('t',axis=1).plot()"
   ]
  },
  {
   "cell_type": "code",
   "execution_count": 9,
   "metadata": {
    "cell_style": "split"
   },
   "outputs": [],
   "source": [
    "df.dropna(inplace=True)"
   ]
  },
  {
   "cell_type": "markdown",
   "metadata": {},
   "source": [
    "# Madgwick Update\n",
    "\n",
    "Calculates quaternions between the sensor frame and the earth frame using Acceleration, orbital velocity and magnetic field. The purpose of this filter is to find the orientation of the buoy relative to the surface of the water/earth over time. \n",
    "\n",
    "IMU - Inertial Measurement Unit\n",
    "This project uses an Adafruit BNO055 IMU \n",
    "\n",
    "MARG - Magnetic, Angular Rate,and Gravity\n",
    "\n",
    "${}^A_B{\\bf q}$ Describes the orientation of frame B relative to frame A.\n",
    "Where ${\\bf q} = [ q_1, q_2, q_3, q_4] = [w, x, y, z]$\n",
    "\n",
    "\n",
    "This filter finds ${}^S_E{\\bf \\hat{q}}_{est, t}$ earth frame relative to the sensor.\n",
    "\n",
    "To rotate a vector from one frame insert a zero in the first element so you have a 4 element row vector. Then perform the following quaternion product\n",
    "$$\n",
    "{}^B\\mathcal{v} = {}^A_B{\\bf q} \\otimes {}^A\\mathcal{v}  \\otimes {}^A_B{\\bf q}^*\n",
    "$$\n",
    "\n",
    "${}^A\\mathcal{v}$ and ${}^B\\mathcal{v}$ are the same vector described in frame A and frame B with a zero inserted in the first element. "
   ]
  },
  {
   "cell_type": "code",
   "execution_count": 10,
   "metadata": {},
   "outputs": [
    {
     "name": "stdout",
     "output_type": "stream",
     "text": [
      "(-0.3635 +0.3058i +0.8167j +0.3277k)\n"
     ]
    }
   ],
   "source": [
    "q1 = Quaternion(0.55747131, 0.12956903, 0.5736954 , 0.58592763)\n",
    "q2 = Quaternion(0.49753507, 0.50806522, 0.52711628, 0.4652709)\n",
    "print(q1*q2)\n",
    "# expect '(-0.3635 +0.3896i +0.3419j +0.7740k)'  we get the normalized version of this"
   ]
  },
  {
   "cell_type": "code",
   "execution_count": 11,
   "metadata": {},
   "outputs": [
    {
     "name": "stderr",
     "output_type": "stream",
     "text": [
      "No data: cannot use a Filter/Module/ModuleManager.\n"
     ]
    },
    {
     "data": {
      "application/vnd.jupyter.widget-view+json": {
       "model_id": "28667dd4f0e242ecb10e9eb186dbde3c",
       "version_major": 2,
       "version_minor": 0
      },
      "text/plain": [
       "Image(value=b'\\x89PNG\\r\\n\\x1a\\n\\x00\\x00\\x00\\rIHDR\\x00\\x00\\x01\\x90\\x00\\x00\\x01^\\x08\\x02\\x00\\x00\\x00$?\\xde_\\x00\\…"
      ]
     },
     "metadata": {},
     "output_type": "display_data"
    }
   ],
   "source": [
    "q = Quaternion(1, 0, 0, 1)\n",
    "r = [2, 0, 0]\n",
    "l = q.rotate_vector(r) #do it\n",
    "#l = q.conjugate().rotate_vector(l) # undoit\n",
    "#l = l*1.1\n",
    "\n",
    "x = [0,0,0,0,0]\n",
    "y = [0,0,0,0,0]\n",
    "z = [0,0,0,0,0]\n",
    "u = [.5,0,0,r[0],l[0]]\n",
    "v = [0,.6,0,r[1],l[1]]\n",
    "w = [0,0,.5,r[2],l[2]]\n",
    "\n",
    "    \n",
    "fig = mlab.figure(bgcolor=(1, 1, 1),fgcolor=(0.1, 0.1, 0.1))\n",
    "mlab.axes(color=(0,0,0),figure=fig)\n",
    "obj = mlab.quiver3d(x, y, z, u, v, w, line_width=3, scale_factor=1, figure=fig)\n",
    "mlab.outline(color=(0,0,0))\n",
    "mlab.xlabel(\"x\",object=obj)\n",
    "mlab.ylabel(\"y\",object=obj)\n",
    "mlab.zlabel(\"z\",object=obj)\n",
    "mlab.title('Quaternion Rotations',figure=fig)\n"
   ]
  },
  {
   "cell_type": "code",
   "execution_count": 12,
   "metadata": {},
   "outputs": [
    {
     "data": {
      "text/plain": [
       "array([0., 2., 0.])"
      ]
     },
     "execution_count": 12,
     "metadata": {},
     "output_type": "execute_result"
    }
   ],
   "source": [
    "l"
   ]
  },
  {
   "cell_type": "code",
   "execution_count": 13,
   "metadata": {},
   "outputs": [
    {
     "data": {
      "text/plain": [
       "array([0., 0., 1., 0.])"
      ]
     },
     "execution_count": 13,
     "metadata": {},
     "output_type": "execute_result"
    }
   ],
   "source": [
    "q = Quaternion(1, 0, 0, 1)\n",
    "r = [1, 0, 0]\n",
    "f = q*Quaternion([0,1,0,0])*q.conjugate()\n",
    "f.q"
   ]
  },
  {
   "cell_type": "markdown",
   "metadata": {},
   "source": [
    "## frequency [float]\n",
    "\n",
    "$f=\\frac{1}{dt}$\n",
    "\n",
    "## dt [float]\n",
    "\n",
    "time in between samples\n",
    "\n",
    "$dt = \\frac{1.0}{f}$\n",
    "\n",
    "\n",
    "## q0 [Quaternion]\n",
    "initial quaternion object.\n",
    "\n",
    "$q = [w,x,y,z]$\n",
    "\n",
    "Can be unit quaternion that doesn't actually rotate anything.\n",
    "\n",
    "i = np.array([1, 0, 0, 0])\n",
    "\n",
    "quat = Quaternion(i)\n",
    "\n",
    "\n",
    "## Q[N-1]\n",
    "\n",
    "List of quaternions from sensor frame to earth frame for each time.\n",
    "\n",
    "\n",
    "## earthAcc [N-1, 3]\n",
    "\n",
    "acceleration vectors that have been rotated by quaternions into the earth frame. "
   ]
  },
  {
   "cell_type": "code",
   "execution_count": 14,
   "metadata": {},
   "outputs": [],
   "source": [
    "acc = df.iloc[:,1:4].to_numpy()\n",
    "gyr = df.iloc[:,4:7].to_numpy()\n",
    "mag = df.iloc[:,7:10].to_numpy()"
   ]
  },
  {
   "cell_type": "code",
   "execution_count": null,
   "metadata": {},
   "outputs": [],
   "source": []
  },
  {
   "cell_type": "code",
   "execution_count": 15,
   "metadata": {},
   "outputs": [
    {
     "name": "stdout",
     "output_type": "stream",
     "text": [
      "computed earth frame acceleration vector\n"
     ]
    },
    {
     "data": {
      "text/plain": [
       "<matplotlib.legend.Legend at 0x2242e457460>"
      ]
     },
     "execution_count": 15,
     "metadata": {},
     "output_type": "execute_result"
    },
    {
     "data": {
      "image/png": "[encoded data removed]",
      "text/plain": [
       "<Figure size 432x288 with 1 Axes>"
      ]
     },
     "metadata": {
      "needs_background": "light"
     },
     "output_type": "display_data"
    }
   ],
   "source": [
    "sample_period = 0.3 # s\n",
    "freq= 1/sample_period\n",
    "\n",
    "m = Madgwick(acc=acc, gyr=gyr,mag=mag,frequency=freq)\n",
    "\n",
    "fig, ax = plt.subplots()\n",
    "ax.plot(m.earthAcc[:,0], label='ax')\n",
    "ax.plot(m.earthAcc[:,1], label='ay')\n",
    "ax.plot(m.earthAcc[:,2], label='az')\n",
    "ax.set_title(\"Angle Adjusted Acceleration in earth frame\")\n",
    "ax.set_xlabel(\"Time\")\n",
    "ax.set_ylabel(r\"$m/s^2$\")\n",
    "ax.legend()"
   ]
  },
  {
   "cell_type": "markdown",
   "metadata": {},
   "source": [
    "# Fixes\n",
    "\n",
    "We should be seeing much more stable data here given our sample. The problem is clearly in the madgwick filter\n",
    "\n",
    "Look for example data."
   ]
  },
  {
   "cell_type": "code",
   "execution_count": 16,
   "metadata": {},
   "outputs": [],
   "source": [
    "#m.earthAcc[:,2] += -10 # goodbye gravity"
   ]
  },
  {
   "cell_type": "code",
   "execution_count": 17,
   "metadata": {},
   "outputs": [
    {
     "data": {
      "text/plain": [
       "1.0000000015732007"
      ]
     },
     "execution_count": 17,
     "metadata": {},
     "output_type": "execute_result"
    }
   ],
   "source": [
    "df.qw.iloc[2]"
   ]
  },
  {
   "cell_type": "code",
   "execution_count": 18,
   "metadata": {},
   "outputs": [],
   "source": [
    "quate = []\n",
    "for i in range(len(df.qx)):\n",
    "    quate.append(Quaternion([df.qw.iloc[i],df.qx.iloc[i],df.qy.iloc[i],df.qz.iloc[i]]))"
   ]
  },
  {
   "cell_type": "code",
   "execution_count": 19,
   "metadata": {},
   "outputs": [],
   "source": [
    "a=[]\n",
    "for i, q in enumerate(quate):\n",
    "    a.append(q.rotate_vector(acc[i]))"
   ]
  },
  {
   "cell_type": "code",
   "execution_count": 20,
   "metadata": {},
   "outputs": [],
   "source": [
    "al = pd.DataFrame(a,columns=['ax','ay','az'])"
   ]
  },
  {
   "cell_type": "code",
   "execution_count": 21,
   "metadata": {},
   "outputs": [
    {
     "data": {
      "text/plain": [
       "<matplotlib.axes._subplots.AxesSubplot at 0x2242e5aa790>"
      ]
     },
     "execution_count": 21,
     "metadata": {},
     "output_type": "execute_result"
    },
    {
     "data": {
      "image/png": "[encoded data removed]",
      "text/plain": [
       "<Figure size 432x288 with 1 Axes>"
      ]
     },
     "metadata": {
      "needs_background": "light"
     },
     "output_type": "display_data"
    }
   ],
   "source": [
    "al.plot()"
   ]
  },
  {
   "cell_type": "markdown",
   "metadata": {},
   "source": [
    "calibrate for value of gravity"
   ]
  },
  {
   "cell_type": "code",
   "execution_count": 22,
   "metadata": {},
   "outputs": [],
   "source": [
    "al.az += -9.8"
   ]
  },
  {
   "cell_type": "code",
   "execution_count": 23,
   "metadata": {},
   "outputs": [
    {
     "data": {
      "text/plain": [
       "<matplotlib.axes._subplots.AxesSubplot at 0x2242e619610>"
      ]
     },
     "execution_count": 23,
     "metadata": {},
     "output_type": "execute_result"
    },
    {
     "data": {
      "image/png": "[encoded data removed]",
      "text/plain": [
       "<Figure size 432x288 with 1 Axes>"
      ]
     },
     "metadata": {
      "needs_background": "light"
     },
     "output_type": "display_data"
    }
   ],
   "source": [
    "al.plot()"
   ]
  },
  {
   "cell_type": "markdown",
   "metadata": {},
   "source": [
    "# Position Integration\n",
    "\n",
    "Use scipy.integrate.cumptrapz which is a python iplementation of the trapezoidal method. \n",
    "\n",
    "\n",
    "scipy.integrate.cumtrapz(y, x=None, dx=1.0, axis=- 1, initial=None)[source]\n",
    "Cumulatively integrate y(x) using the composite trapezoidal rule.\n",
    "\n",
    "Parameters:\n",
    "\n",
    "y: array_like\n",
    "\n",
    "Values to integrate.\n",
    "\n",
    "x: array_like, optional\n",
    "\n",
    "The coordinate to integrate along. If None (default), use spacing dx between consecutive elements in y.\n",
    "\n",
    "dx: float, optional\n",
    "\n",
    "Spacing between elements of y. Only used if x is None.\n",
    "\n",
    "axis: int, optional\n",
    "\n",
    "Specifies the axis to cumulate. Default is -1 (last axis).\n",
    "\n",
    "initial: scalar, optional\n",
    "\n",
    "If given, insert this value at the beginning of the returned result. Typically this value should be 0. Default is None, which means no value at x[0] is returned and res has one element less than y along the axis of integration.\n",
    "\n",
    "Returns:\n",
    "\n",
    "res: ndarray\n",
    "\n",
    "The result of cumulative integration of y along axis. If initial is None, the shape is such that the axis of integration has one less value than y. If initial is given, the shape is equal to that of y.\n",
    "\n",
    "$$\n",
    "v(t) = \\int_t^{t+1} a(t) dt \\approx \\frac{a(t_i) + a(t_{i+1})}{2}\\Delta t_{i+1}\n",
    "$$\n",
    "\n",
    "\n",
    "## acceleration [3,N]\n",
    "\n",
    "\n",
    "## velocity [3, N-1]\n",
    "\n",
    "\n",
    "\n",
    "\n",
    "## position [3,N-2]"
   ]
  },
  {
   "cell_type": "code",
   "execution_count": 24,
   "metadata": {
    "scrolled": false
   },
   "outputs": [
    {
     "name": "stdout",
     "output_type": "stream",
     "text": [
      "got position\n"
     ]
    },
    {
     "data": {
      "text/plain": [
       "<matplotlib.axes._subplots.AxesSubplot at 0x2242e6ad460>"
      ]
     },
     "execution_count": 24,
     "metadata": {},
     "output_type": "execute_result"
    },
    {
     "data": {
      "image/png": "[encoded data removed]",
      "text/plain": [
       "<Figure size 432x288 with 1 Axes>"
      ]
     },
     "metadata": {
      "needs_background": "light"
     },
     "output_type": "display_data"
    },
    {
     "data": {
      "image/png": "[encoded data removed]",
      "text/plain": [
       "<Figure size 432x288 with 1 Axes>"
      ]
     },
     "metadata": {
      "needs_background": "light"
     },
     "output_type": "display_data"
    }
   ],
   "source": [
    "position = get_position(al.values,m.dt)\n",
    "position.columns= ['x','y','z']\n",
    "position.plot()"
   ]
  },
  {
   "cell_type": "raw",
   "metadata": {},
   "source": [
    "position.x += np.sin(0.3*position.index.values)*1000\n",
    "position.y += np.cos(0.1*position.index.values)*1000\n",
    "\n",
    "position.plot()"
   ]
  },
  {
   "cell_type": "markdown",
   "metadata": {},
   "source": [
    "# Fourier Transforms\n",
    "\n",
    "## Discrete Fourier Transforms\n",
    "Given a set of sampled data you can apply the transform on the vector by multiplying it by matrices. \n",
    "This will give you a set of coefficients for each frequency in the data up to the nth frequency possible for n data points.\n",
    "\n",
    "the nth frequency coefficient \n",
    "$$\n",
    "\\hat{f_k} = \\sum_{j=0}^{n-1} f_je^{-i2\\pi jk/n}\n",
    "$$\n",
    "\n",
    "Where:\n",
    "\n",
    "* n is the number of samples\n",
    "* j = current sample\n",
    "* $f_j$ = value of the signal at time n\n",
    "* k = current frequency (0 Hz to N-1 Hz)\n",
    "* $\\hat{f_k}$ = result of DFT amplitude and phase\n",
    "\n",
    "\n",
    "To reconstruct the data from the coefficients\n",
    "$$\n",
    "f_k = \\bigg(\\sum_{j=0}^{n-1} \\hat{f_j}e^{i2\\pi jk/n}\\bigg)\\frac{1}{n}\n",
    "$$\n",
    "\n",
    "The DFT takes the sample as a vector and returns the coefficients as a vector. The data has to start with a zero index.\n",
    "$$\n",
    "\\{f_0, f_1,f_2 ...f_n\\} \\implies \\{\\hat{f_0},\\hat{f_1},\\hat{f_2}...\\hat{f_n}\\}\n",
    "$$\n",
    "\n",
    "There is a fundamental frequency:\n",
    "$$\n",
    "\\omega_n = e^{-i2\\pi /n}\n",
    "$$\n",
    "\n",
    "This frequency can be used to form a DFT matrix. \n",
    "Given in complex numbers so that the magnitude and phase are communicated through the coeffs\n",
    "\n",
    "## Fast Fourier Transforms\n",
    "\n",
    "A technique for computing the DFT. An Algorithm. Clever and faster. \n",
    "\n",
    "Like the Discrete Fourier Transform $(N^2)$\n",
    "\n",
    "But over small chunks and $(N\\log_2 N)$\n",
    "\n",
    "Standard use.\n",
    "\n",
    "\n",
    "# Scipy\n",
    "\n",
    "Has Function scipy.fftpack.fft\n",
    "\n",
    "## A_xf , A_yf, A_zf\n",
    "\n",
    "Complex coefficient per frequency \n",
    "\n",
    "$A_f = \\alpha + i\\beta$\n",
    "\n",
    "\n",
    "A_xf = fftpack.fft(x)\n",
    "\n",
    "\n",
    "\n",
    "\n",
    "## D\n",
    "Normalized Directional Distribution per frequency\n",
    "\n",
    "$$\n",
    "D (\\theta, f) = \\frac{1}{\\pi}\\bigg\\{\\frac{1}{2} + a_1 \\cos\\theta + b_1\\sin\\theta + a_2\\cos 2\\theta+ b_2 \\sin 2\\theta + ...\\bigg\\}\n",
    "$$\n",
    "\n",
    "Columns are frequencies\n",
    "\n",
    "Rows are angles"
   ]
  },
  {
   "cell_type": "code",
   "execution_count": 25,
   "metadata": {
    "cell_style": "split",
    "scrolled": true
   },
   "outputs": [
    {
     "name": "stdout",
     "output_type": "stream",
     "text": [
      "fast fourier transformed\n",
      "<class 'pandas.core.frame.DataFrame'>\n",
      "RangeIndex: 993 entries, 0 to 992\n",
      "Data columns (total 9 columns):\n",
      " #   Column  Non-Null Count  Dtype  \n",
      "---  ------  --------------  -----  \n",
      " 0   xx      993 non-null    float64\n",
      " 1   xy      993 non-null    float64\n",
      " 2   xz      993 non-null    float64\n",
      " 3   yx      993 non-null    float64\n",
      " 4   yy      993 non-null    float64\n",
      " 5   yz      993 non-null    float64\n",
      " 6   zx      993 non-null    float64\n",
      " 7   zy      993 non-null    float64\n",
      " 8   zz      993 non-null    float64\n",
      "dtypes: float64(9)\n",
      "memory usage: 69.9 KB\n",
      "None\n"
     ]
    }
   ],
   "source": [
    "D, A, C, Q = frequency_analysis(position,dt=m.dt)"
   ]
  },
  {
   "cell_type": "code",
   "execution_count": 26,
   "metadata": {
    "cell_style": "center"
   },
   "outputs": [
    {
     "data": {
      "text/plain": [
       "<matplotlib.axes._subplots.AxesSubplot at 0x2242e747ca0>"
      ]
     },
     "execution_count": 26,
     "metadata": {},
     "output_type": "execute_result"
    },
    {
     "data": {
      "image/png": "[encoded data removed]",
      "text/plain": [
       "<Figure size 432x288 with 1 Axes>"
      ]
     },
     "metadata": {
      "needs_background": "light"
     },
     "output_type": "display_data"
    }
   ],
   "source": [
    "D.plot(legend=False)"
   ]
  },
  {
   "cell_type": "code",
   "execution_count": 27,
   "metadata": {
    "cell_style": "center",
    "scrolled": false
   },
   "outputs": [
    {
     "data": {
      "text/html": [
       "<div>\n",
       "<style scoped>\n",
       "    .dataframe tbody tr th:only-of-type {\n",
       "        vertical-align: middle;\n",
       "    }\n",
       "\n",
       "    .dataframe tbody tr th {\n",
       "        vertical-align: top;\n",
       "    }\n",
       "\n",
       "    .dataframe thead th {\n",
       "        text-align: right;\n",
       "    }\n",
       "</style>\n",
       "<table border=\"1\" class=\"dataframe\">\n",
       "  <thead>\n",
       "    <tr style=\"text-align: right;\">\n",
       "      <th></th>\n",
       "      <th>0</th>\n",
       "      <th>1</th>\n",
       "      <th>2</th>\n",
       "      <th>3</th>\n",
       "      <th>4</th>\n",
       "      <th>5</th>\n",
       "      <th>6</th>\n",
       "      <th>7</th>\n",
       "      <th>8</th>\n",
       "      <th>9</th>\n",
       "      <th>...</th>\n",
       "      <th>983</th>\n",
       "      <th>984</th>\n",
       "      <th>985</th>\n",
       "      <th>986</th>\n",
       "      <th>987</th>\n",
       "      <th>988</th>\n",
       "      <th>989</th>\n",
       "      <th>990</th>\n",
       "      <th>991</th>\n",
       "      <th>992</th>\n",
       "    </tr>\n",
       "    <tr>\n",
       "      <th>$\\theta$ in radians</th>\n",
       "      <th></th>\n",
       "      <th></th>\n",
       "      <th></th>\n",
       "      <th></th>\n",
       "      <th></th>\n",
       "      <th></th>\n",
       "      <th></th>\n",
       "      <th></th>\n",
       "      <th></th>\n",
       "      <th></th>\n",
       "      <th></th>\n",
       "      <th></th>\n",
       "      <th></th>\n",
       "      <th></th>\n",
       "      <th></th>\n",
       "      <th></th>\n",
       "      <th></th>\n",
       "      <th></th>\n",
       "      <th></th>\n",
       "      <th></th>\n",
       "      <th></th>\n",
       "    </tr>\n",
       "  </thead>\n",
       "  <tbody>\n",
       "    <tr>\n",
       "      <th>0.000000</th>\n",
       "      <td>0.321067</td>\n",
       "      <td>0.306943</td>\n",
       "      <td>0.215209</td>\n",
       "      <td>0.253323</td>\n",
       "      <td>0.257942</td>\n",
       "      <td>0.268477</td>\n",
       "      <td>0.262245</td>\n",
       "      <td>0.253371</td>\n",
       "      <td>0.252611</td>\n",
       "      <td>0.254695</td>\n",
       "      <td>...</td>\n",
       "      <td>0.256996</td>\n",
       "      <td>0.252657</td>\n",
       "      <td>0.250406</td>\n",
       "      <td>0.249425</td>\n",
       "      <td>0.259318</td>\n",
       "      <td>0.264432</td>\n",
       "      <td>0.256771</td>\n",
       "      <td>0.246420</td>\n",
       "      <td>0.205562</td>\n",
       "      <td>0.245911</td>\n",
       "    </tr>\n",
       "    <tr>\n",
       "      <th>0.179520</th>\n",
       "      <td>0.214447</td>\n",
       "      <td>0.198869</td>\n",
       "      <td>0.100652</td>\n",
       "      <td>0.139493</td>\n",
       "      <td>0.144887</td>\n",
       "      <td>0.156112</td>\n",
       "      <td>0.149651</td>\n",
       "      <td>0.140345</td>\n",
       "      <td>0.139512</td>\n",
       "      <td>0.141587</td>\n",
       "      <td>...</td>\n",
       "      <td>0.144634</td>\n",
       "      <td>0.140137</td>\n",
       "      <td>0.137657</td>\n",
       "      <td>0.136634</td>\n",
       "      <td>0.146977</td>\n",
       "      <td>0.152518</td>\n",
       "      <td>0.144821</td>\n",
       "      <td>0.134554</td>\n",
       "      <td>0.092822</td>\n",
       "      <td>0.140261</td>\n",
       "    </tr>\n",
       "    <tr>\n",
       "      <th>0.359039</th>\n",
       "      <td>0.100776</td>\n",
       "      <td>0.088525</td>\n",
       "      <td>-0.006070</td>\n",
       "      <td>0.028407</td>\n",
       "      <td>0.033655</td>\n",
       "      <td>0.044307</td>\n",
       "      <td>0.038397</td>\n",
       "      <td>0.029895</td>\n",
       "      <td>0.029007</td>\n",
       "      <td>0.030788</td>\n",
       "      <td>...</td>\n",
       "      <td>0.034081</td>\n",
       "      <td>0.029973</td>\n",
       "      <td>0.027561</td>\n",
       "      <td>0.026537</td>\n",
       "      <td>0.036061</td>\n",
       "      <td>0.041279</td>\n",
       "      <td>0.034697</td>\n",
       "      <td>0.025591</td>\n",
       "      <td>-0.011833</td>\n",
       "      <td>0.034226</td>\n",
       "    </tr>\n",
       "    <tr>\n",
       "      <th>0.538559</th>\n",
       "      <td>-0.005451</td>\n",
       "      <td>-0.010221</td>\n",
       "      <td>-0.091446</td>\n",
       "      <td>-0.065871</td>\n",
       "      <td>-0.061622</td>\n",
       "      <td>-0.052707</td>\n",
       "      <td>-0.057346</td>\n",
       "      <td>-0.063910</td>\n",
       "      <td>-0.064832</td>\n",
       "      <td>-0.063602</td>\n",
       "      <td>...</td>\n",
       "      <td>-0.060537</td>\n",
       "      <td>-0.063755</td>\n",
       "      <td>-0.065821</td>\n",
       "      <td>-0.066806</td>\n",
       "      <td>-0.059268</td>\n",
       "      <td>-0.055071</td>\n",
       "      <td>-0.059506</td>\n",
       "      <td>-0.066473</td>\n",
       "      <td>-0.094956</td>\n",
       "      <td>-0.058467</td>\n",
       "    </tr>\n",
       "    <tr>\n",
       "      <th>0.718078</th>\n",
       "      <td>-0.090685</td>\n",
       "      <td>-0.085066</td>\n",
       "      <td>-0.144696</td>\n",
       "      <td>-0.131422</td>\n",
       "      <td>-0.128844</td>\n",
       "      <td>-0.122589</td>\n",
       "      <td>-0.125387</td>\n",
       "      <td>-0.129129</td>\n",
       "      <td>-0.130058</td>\n",
       "      <td>-0.129576</td>\n",
       "      <td>...</td>\n",
       "      <td>-0.127127</td>\n",
       "      <td>-0.129063</td>\n",
       "      <td>-0.130560</td>\n",
       "      <td>-0.131471</td>\n",
       "      <td>-0.126834</td>\n",
       "      <td>-0.124215</td>\n",
       "      <td>-0.125722</td>\n",
       "      <td>-0.129792</td>\n",
       "      <td>-0.145840</td>\n",
       "      <td>-0.125708</td>\n",
       "    </tr>\n",
       "  </tbody>\n",
       "</table>\n",
       "<p>5 rows × 993 columns</p>\n",
       "</div>"
      ],
      "text/plain": [
       "                          0         1         2         3         4    \\\n",
       "$\\theta$ in radians                                                     \n",
       "0.000000             0.321067  0.306943  0.215209  0.253323  0.257942   \n",
       "0.179520             0.214447  0.198869  0.100652  0.139493  0.144887   \n",
       "0.359039             0.100776  0.088525 -0.006070  0.028407  0.033655   \n",
       "0.538559            -0.005451 -0.010221 -0.091446 -0.065871 -0.061622   \n",
       "0.718078            -0.090685 -0.085066 -0.144696 -0.131422 -0.128844   \n",
       "\n",
       "                          5         6         7         8         9    ...  \\\n",
       "$\\theta$ in radians                                                    ...   \n",
       "0.000000             0.268477  0.262245  0.253371  0.252611  0.254695  ...   \n",
       "0.179520             0.156112  0.149651  0.140345  0.139512  0.141587  ...   \n",
       "0.359039             0.044307  0.038397  0.029895  0.029007  0.030788  ...   \n",
       "0.538559            -0.052707 -0.057346 -0.063910 -0.064832 -0.063602  ...   \n",
       "0.718078            -0.122589 -0.125387 -0.129129 -0.130058 -0.129576  ...   \n",
       "\n",
       "                          983       984       985       986       987  \\\n",
       "$\\theta$ in radians                                                     \n",
       "0.000000             0.256996  0.252657  0.250406  0.249425  0.259318   \n",
       "0.179520             0.144634  0.140137  0.137657  0.136634  0.146977   \n",
       "0.359039             0.034081  0.029973  0.027561  0.026537  0.036061   \n",
       "0.538559            -0.060537 -0.063755 -0.065821 -0.066806 -0.059268   \n",
       "0.718078            -0.127127 -0.129063 -0.130560 -0.131471 -0.126834   \n",
       "\n",
       "                          988       989       990       991       992  \n",
       "$\\theta$ in radians                                                    \n",
       "0.000000             0.264432  0.256771  0.246420  0.205562  0.245911  \n",
       "0.179520             0.152518  0.144821  0.134554  0.092822  0.140261  \n",
       "0.359039             0.041279  0.034697  0.025591 -0.011833  0.034226  \n",
       "0.538559            -0.055071 -0.059506 -0.066473 -0.094956 -0.058467  \n",
       "0.718078            -0.124215 -0.125722 -0.129792 -0.145840 -0.125708  \n",
       "\n",
       "[5 rows x 993 columns]"
      ]
     },
     "execution_count": 27,
     "metadata": {},
     "output_type": "execute_result"
    }
   ],
   "source": [
    "D.head()"
   ]
  },
  {
   "cell_type": "code",
   "execution_count": 28,
   "metadata": {
    "cell_style": "center"
   },
   "outputs": [
    {
     "data": {
      "text/plain": [
       "1      0.492067\n",
       "992    0.491459\n",
       "2      0.484024\n",
       "990    0.482814\n",
       "991    0.480390\n",
       "dtype: float64"
      ]
     },
     "execution_count": 28,
     "metadata": {},
     "output_type": "execute_result"
    }
   ],
   "source": [
    "D.max().nlargest()"
   ]
  },
  {
   "cell_type": "code",
   "execution_count": 29,
   "metadata": {
    "cell_style": "split"
   },
   "outputs": [
    {
     "data": {
      "text/plain": [
       "[<matplotlib.lines.Line2D at 0x22430178d30>]"
      ]
     },
     "execution_count": 29,
     "metadata": {},
     "output_type": "execute_result"
    },
    {
     "data": {
      "image/png": "[encoded data removed]",
      "text/plain": [
       "<Figure size 432x288 with 1 Axes>"
      ]
     },
     "metadata": {
      "needs_background": "light"
     },
     "output_type": "display_data"
    }
   ],
   "source": [
    "plt.polar(D[D.max().nlargest().keys()].iloc[:,0])  #default nlargest picks 5\n",
    "plt.polar(D[D.max().nlargest().keys()].iloc[:,1])\n",
    "plt.polar(D[D.max().nlargest().keys()].iloc[:,2])\n",
    "plt.polar(D[D.max().nlargest().keys()].iloc[:,3])\n",
    "plt.polar(D[D.max().nlargest().keys()].iloc[:,4])"
   ]
  },
  {
   "cell_type": "code",
   "execution_count": 30,
   "metadata": {
    "cell_style": "split"
   },
   "outputs": [],
   "source": [
    "D0 = np.arctan2(-Q.xz,Q.yz)\n",
    "D0.index.name = r'frequency'"
   ]
  },
  {
   "cell_type": "code",
   "execution_count": 31,
   "metadata": {
    "cell_style": "split"
   },
   "outputs": [
    {
     "data": {
      "text/plain": [
       "<matplotlib.axes._subplots.AxesSubplot at 0x2243019a5e0>"
      ]
     },
     "execution_count": 31,
     "metadata": {},
     "output_type": "execute_result"
    },
    {
     "data": {
      "image/png": "[encoded data removed]",
      "text/plain": [
       "<Figure size 432x288 with 1 Axes>"
      ]
     },
     "metadata": {
      "needs_background": "light"
     },
     "output_type": "display_data"
    }
   ],
   "source": [
    "D0.plot()"
   ]
  },
  {
   "cell_type": "markdown",
   "metadata": {},
   "source": [
    "# Frequency Domain\n",
    "\n",
    "this needs fftshift"
   ]
  },
  {
   "cell_type": "code",
   "execution_count": 32,
   "metadata": {},
   "outputs": [
    {
     "data": {
      "text/plain": [
       "<matplotlib.axes._subplots.AxesSubplot at 0x224301fec40>"
      ]
     },
     "execution_count": 32,
     "metadata": {},
     "output_type": "execute_result"
    },
    {
     "data": {
      "image/png": "[encoded data removed]",
      "text/plain": [
       "<Figure size 432x288 with 1 Axes>"
      ]
     },
     "metadata": {
      "needs_background": "light"
     },
     "output_type": "display_data"
    }
   ],
   "source": [
    "A.abs().plot()"
   ]
  },
  {
   "cell_type": "code",
   "execution_count": 33,
   "metadata": {
    "cell_style": "split"
   },
   "outputs": [
    {
     "data": {
      "text/plain": [
       "<matplotlib.axes._subplots.AxesSubplot at 0x22430200a30>"
      ]
     },
     "execution_count": 33,
     "metadata": {},
     "output_type": "execute_result"
    },
    {
     "data": {
      "image/png": "[encoded data removed]",
      "text/plain": [
       "<Figure size 432x288 with 1 Axes>"
      ]
     },
     "metadata": {
      "needs_background": "light"
     },
     "output_type": "display_data"
    }
   ],
   "source": [
    "A[0:50].abs().plot()"
   ]
  },
  {
   "cell_type": "code",
   "execution_count": 34,
   "metadata": {
    "cell_style": "split"
   },
   "outputs": [
    {
     "data": {
      "text/plain": [
       "<matplotlib.axes._subplots.AxesSubplot at 0x2243026b2e0>"
      ]
     },
     "execution_count": 34,
     "metadata": {},
     "output_type": "execute_result"
    },
    {
     "data": {
      "image/png": "[encoded data removed]",
      "text/plain": [
       "<Figure size 432x288 with 1 Axes>"
      ]
     },
     "metadata": {
      "needs_background": "light"
     },
     "output_type": "display_data"
    }
   ],
   "source": [
    "A[1000:1024].abs().plot()"
   ]
  },
  {
   "cell_type": "code",
   "execution_count": 35,
   "metadata": {},
   "outputs": [
    {
     "data": {
      "text/html": [
       "<div>\n",
       "<style scoped>\n",
       "    .dataframe tbody tr th:only-of-type {\n",
       "        vertical-align: middle;\n",
       "    }\n",
       "\n",
       "    .dataframe tbody tr th {\n",
       "        vertical-align: top;\n",
       "    }\n",
       "\n",
       "    .dataframe thead th {\n",
       "        text-align: right;\n",
       "    }\n",
       "</style>\n",
       "<table border=\"1\" class=\"dataframe\">\n",
       "  <thead>\n",
       "    <tr style=\"text-align: right;\">\n",
       "      <th></th>\n",
       "      <th>0</th>\n",
       "      <th>1</th>\n",
       "      <th>2</th>\n",
       "    </tr>\n",
       "  </thead>\n",
       "  <tbody>\n",
       "    <tr>\n",
       "      <th>0</th>\n",
       "      <td>934393.595797-0.000000j</td>\n",
       "      <td>533241.584201-0.000000j</td>\n",
       "      <td>-2.923939e+06-0.000000e+00j</td>\n",
       "    </tr>\n",
       "    <tr>\n",
       "      <th>1</th>\n",
       "      <td>-16428.052231+394924.627953j</td>\n",
       "      <td>68206.471350+259723.760195j</td>\n",
       "      <td>-4.696740e+05-1.384050e+06j</td>\n",
       "    </tr>\n",
       "    <tr>\n",
       "      <th>2</th>\n",
       "      <td>16793.950364+142293.430034j</td>\n",
       "      <td>13009.527982+121111.751040j</td>\n",
       "      <td>-1.407166e+05-7.112819e+05j</td>\n",
       "    </tr>\n",
       "    <tr>\n",
       "      <th>3</th>\n",
       "      <td>8573.671891+105700.889047j</td>\n",
       "      <td>2287.116445+79072.530846j</td>\n",
       "      <td>-6.490453e+04-4.887777e+05j</td>\n",
       "    </tr>\n",
       "    <tr>\n",
       "      <th>4</th>\n",
       "      <td>6107.388197+80325.243894j</td>\n",
       "      <td>1335.441703+58545.752167j</td>\n",
       "      <td>-3.150777e+04-3.719221e+05j</td>\n",
       "    </tr>\n",
       "    <tr>\n",
       "      <th>...</th>\n",
       "      <td>...</td>\n",
       "      <td>...</td>\n",
       "      <td>...</td>\n",
       "    </tr>\n",
       "    <tr>\n",
       "      <th>988</th>\n",
       "      <td>1218.305073-65318.392386j</td>\n",
       "      <td>1183.222874-45984.684562j</td>\n",
       "      <td>-1.423594e+04+2.969283e+05j</td>\n",
       "    </tr>\n",
       "    <tr>\n",
       "      <th>989</th>\n",
       "      <td>6107.388197-80325.243894j</td>\n",
       "      <td>1335.441703-58545.752167j</td>\n",
       "      <td>-3.150777e+04+3.719221e+05j</td>\n",
       "    </tr>\n",
       "    <tr>\n",
       "      <th>990</th>\n",
       "      <td>8573.671891-105700.889047j</td>\n",
       "      <td>2287.116445-79072.530846j</td>\n",
       "      <td>-6.490453e+04+4.887777e+05j</td>\n",
       "    </tr>\n",
       "    <tr>\n",
       "      <th>991</th>\n",
       "      <td>16793.950364-142293.430034j</td>\n",
       "      <td>13009.527982-121111.751040j</td>\n",
       "      <td>-1.407166e+05+7.112819e+05j</td>\n",
       "    </tr>\n",
       "    <tr>\n",
       "      <th>992</th>\n",
       "      <td>-16428.052231-394924.627953j</td>\n",
       "      <td>68206.471350-259723.760195j</td>\n",
       "      <td>-4.696740e+05+1.384050e+06j</td>\n",
       "    </tr>\n",
       "  </tbody>\n",
       "</table>\n",
       "<p>993 rows × 3 columns</p>\n",
       "</div>"
      ],
      "text/plain": [
       "                               0                            1  \\\n",
       "0        934393.595797-0.000000j      533241.584201-0.000000j   \n",
       "1   -16428.052231+394924.627953j  68206.471350+259723.760195j   \n",
       "2    16793.950364+142293.430034j  13009.527982+121111.751040j   \n",
       "3     8573.671891+105700.889047j    2287.116445+79072.530846j   \n",
       "4      6107.388197+80325.243894j    1335.441703+58545.752167j   \n",
       "..                           ...                          ...   \n",
       "988    1218.305073-65318.392386j    1183.222874-45984.684562j   \n",
       "989    6107.388197-80325.243894j    1335.441703-58545.752167j   \n",
       "990   8573.671891-105700.889047j    2287.116445-79072.530846j   \n",
       "991  16793.950364-142293.430034j  13009.527982-121111.751040j   \n",
       "992 -16428.052231-394924.627953j  68206.471350-259723.760195j   \n",
       "\n",
       "                              2  \n",
       "0   -2.923939e+06-0.000000e+00j  \n",
       "1   -4.696740e+05-1.384050e+06j  \n",
       "2   -1.407166e+05-7.112819e+05j  \n",
       "3   -6.490453e+04-4.887777e+05j  \n",
       "4   -3.150777e+04-3.719221e+05j  \n",
       "..                          ...  \n",
       "988 -1.423594e+04+2.969283e+05j  \n",
       "989 -3.150777e+04+3.719221e+05j  \n",
       "990 -6.490453e+04+4.887777e+05j  \n",
       "991 -1.407166e+05+7.112819e+05j  \n",
       "992 -4.696740e+05+1.384050e+06j  \n",
       "\n",
       "[993 rows x 3 columns]"
      ]
     },
     "execution_count": 35,
     "metadata": {},
     "output_type": "execute_result"
    }
   ],
   "source": [
    "A"
   ]
  },
  {
   "cell_type": "raw",
   "metadata": {},
   "source": [
    "fDat = {\n",
    "    'amplitude': ,\n",
    "    'alpha': ,\n",
    "    'ibeta': ,\n",
    "    \n",
    "}"
   ]
  },
  {
   "cell_type": "markdown",
   "metadata": {},
   "source": [
    "Directional Data"
   ]
  },
  {
   "cell_type": "raw",
   "metadata": {},
   "source": [
    "dDat = {\n",
    "    'Co-Spectra': ,\n",
    "    'Quad-Spectra': ,\n",
    "    'a1': ,\n",
    "    'a2': ,\n",
    "    'b1': ,\n",
    "    'b2': ,\n",
    "    'wave-direction': ,\n",
    "    'PSD': , \n",
    "    'G(theta, freq)': ,\n",
    "    'Directional-Spread': ,\n",
    "}"
   ]
  },
  {
   "cell_type": "markdown",
   "metadata": {},
   "source": [
    "# App"
   ]
  },
  {
   "cell_type": "raw",
   "metadata": {},
   "source": [
    "app = dash.Dash(meta_tags=[{\n",
    "    \"name\": \"viewport\",\n",
    "    \"content\": \"width=device-width, initial-scale=1\"\n",
    "}],\n",
    "                external_stylesheets=[dbc.themes.LITERA])"
   ]
  },
  {
   "cell_type": "raw",
   "metadata": {},
   "source": [
    "navbar = dbc.Navbar([\n",
    "    dbc.Row(\n",
    "        [dbc.Col([dbc.NavbarBrand(\"giglioq\", className=\"navbar-brand\")])])\n",
    "],\n",
    "                    color='primary',\n",
    "                    className=\"navbar navbar-expand-lg navbar-dark bg-primary\")"
   ]
  },
  {
   "cell_type": "raw",
   "metadata": {},
   "source": [
    "banner = html.Div([\n",
    "    dbc.Row([\n",
    "        dbc.Col([\n",
    "            html.H5(\"Buoy\"),\n",
    "            html.H3(\"Welcome to the Buoy Project Dashboard\"),\n",
    "            html.Div(\n",
    "                id='intro',\n",
    "                children=\n",
    "                \"Getting things up and running\"\n",
    "            )\n",
    "        ],\n",
    "                width={\n",
    "                    \"size\": 10,\n",
    "                    \"offset\": 1,\n",
    "                },\n",
    "                align='center')\n",
    "    ])\n",
    "],\n",
    "                  style={\n",
    "                      'marginBottom': 20,\n",
    "                      'marginTop': 20,\n",
    "                  },\n",
    "                  id=\"banner\")"
   ]
  },
  {
   "cell_type": "raw",
   "metadata": {},
   "source": [
    "plots = html.Div([])"
   ]
  },
  {
   "cell_type": "raw",
   "metadata": {},
   "source": [
    "app.layout = html.Div(children=[navbar, banner, plots] )"
   ]
  },
  {
   "cell_type": "raw",
   "metadata": {},
   "source": [
    "def open_browser():\n",
    "      webbrowser.open_new('http://127.0.0.1:8050/')\n",
    "\n",
    "if __name__ == '__main__':\n",
    "    Timer(1, open_browser).start();\n",
    "    app.run_server(debug=False)  "
   ]
  }
 ],
 "metadata": {
  "kernelspec": {
   "display_name": "Python 3",
   "language": "python",
   "name": "python3"
  },
  "language_info": {
   "codemirror_mode": {
    "name": "ipython",
    "version": 3
   },
   "file_extension": ".py",
   "mimetype": "text/x-python",
   "name": "python",
   "nbconvert_exporter": "python",
   "pygments_lexer": "ipython3",
   "version": "3.8.3"
  },
  "latex_envs": {
   "LaTeX_envs_menu_present": false,
   "autoclose": false,
   "autocomplete": true,
   "bibliofile": "biblio.bib",
   "cite_by": "apalike",
   "current_citInitial": 1,
   "eqLabelWithNumbers": true,
   "eqNumInitial": 1,
   "hotkeys": {
    "equation": "Ctrl-E",
    "itemize": "Ctrl-I"
   },
   "labels_anchors": false,
   "latex_user_defs": false,
   "report_style_numbering": false,
   "user_envs_cfg": false
  }
 },
 "nbformat": 4,
 "nbformat_minor": 4
}
