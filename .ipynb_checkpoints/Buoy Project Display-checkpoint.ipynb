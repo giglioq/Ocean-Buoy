{
 "cells": [
  {
   "cell_type": "code",
   "execution_count": 34,
   "metadata": {},
   "outputs": [],
   "source": [
    "import pandas as pd\n",
    "import matplotlib.pyplot as plt\n",
    "%matplotlib inline"
   ]
  },
  {
   "cell_type": "code",
   "execution_count": 35,
   "metadata": {},
   "outputs": [],
   "source": [
    "import dash\n",
    "import dash_bootstrap_components as dbc\n",
    "import dash_html_components as html\n",
    "import dash_core_components as dcc\n",
    "from dash.dependencies import Input, Output, State\n",
    "import webbrowser\n",
    "from threading import Timer"
   ]
  },
  {
   "cell_type": "code",
   "execution_count": null,
   "metadata": {},
   "outputs": [],
   "source": [
    "from quaternion import Quaternion"
   ]
  },
  {
   "cell_type": "code",
   "execution_count": 1,
   "metadata": {},
   "outputs": [
    {
     "name": "stdout",
     "output_type": "stream",
     "text": [
      "<class 'pandas.core.frame.DataFrame'>\n",
      "Int64Index: 512 entries, 1 to 1023\n",
      "Data columns (total 14 columns):\n",
      " #   Column    Non-Null Count  Dtype  \n",
      "---  ------    --------------  -----  \n",
      " 0   t         512 non-null    float64\n",
      " 1   Ax        512 non-null    float64\n",
      " 2   Ay        512 non-null    float64\n",
      " 3   Az        512 non-null    float64\n",
      " 4   Wx        512 non-null    float64\n",
      " 5   Wy        512 non-null    float64\n",
      " 6   Wz        512 non-null    float64\n",
      " 7   Bx        512 non-null    float64\n",
      " 8   By        512 non-null    float64\n",
      " 9   Bz        512 non-null    float64\n",
      " 10  phi       512 non-null    float64\n",
      " 11  theta     512 non-null    float64\n",
      " 12  psi       512 non-null    float64\n",
      " 13  Altitude  512 non-null    float64\n",
      "dtypes: float64(14)\n",
      "memory usage: 60.0 KB\n",
      "computed\n",
      "got position\n",
      "<class 'pandas.core.frame.DataFrame'>\n",
      "RangeIndex: 510 entries, 0 to 509\n",
      "Data columns (total 3 columns):\n",
      " #   Column  Non-Null Count  Dtype  \n",
      "---  ------  --------------  -----  \n",
      " 0   0       510 non-null    float64\n",
      " 1   1       510 non-null    float64\n",
      " 2   2       510 non-null    float64\n",
      "dtypes: float64(3)\n",
      "memory usage: 12.1 KB\n",
      "fast fourier transformed\n",
      "found spread\n",
      "found spread\n",
      "found spread\n",
      "<class 'pandas.core.frame.DataFrame'>\n",
      "Float64Index: 6 entries, 0.0 to 6.283185307179586\n",
      "Data columns (total 3 columns):\n",
      " #   Column  Non-Null Count  Dtype  \n",
      "---  ------  --------------  -----  \n",
      " 0   0.0     1 non-null      float64\n",
      " 1   33.0    1 non-null      float64\n",
      " 2   -33.0   1 non-null      float64\n",
      "dtypes: float64(3)\n",
      "memory usage: 192.0 bytes\n",
      "               0.0      33.0     -33.0\n",
      "0.000000 -0.095493 -0.095493 -0.095493\n",
      "1.256637       NaN       NaN       NaN\n",
      "2.513274       NaN       NaN       NaN\n",
      "3.769911       NaN       NaN       NaN\n",
      "5.026548       NaN       NaN       NaN\n",
      "<class 'pandas.core.frame.DataFrame'>\n",
      "RangeIndex: 3 entries, 0 to 2\n",
      "Data columns (total 3 columns):\n",
      " #   Column  Non-Null Count  Dtype     \n",
      "---  ------  --------------  -----     \n",
      " 0   0       3 non-null      complex128\n",
      " 1   1       3 non-null      complex128\n",
      " 2   2       3 non-null      complex128\n",
      "dtypes: complex128(3)\n",
      "memory usage: 272.0 bytes\n",
      "                     0                     1                     2\n",
      "0  -3.270943-0.000000j   3.458557+11.519065j   3.458557-11.519065j\n",
      "1  -9.812829-0.000000j  10.375670+34.557194j  10.375670-34.557194j\n",
      "2 -19.625658-0.000000j  20.751340+69.114388j  20.751340-69.114388j\n"
     ]
    }
   ],
   "source": [
    "from buoy_data_analysis_with_madgwick import *"
   ]
  },
  {
   "cell_type": "markdown",
   "metadata": {},
   "source": [
    "# Raw Data\n",
    "\n",
    "### Acceleration [N, 3]\n",
    "x, y, and z acceleration in the sensor frame\n",
    "\n",
    "### Magnetic Field [N, 3]\n",
    "\n",
    "x, y, z strength of the magnetic field in the sensor frame\n",
    "\n",
    "### Angular Velocity [N, 3]\n",
    "\n",
    "x, y, z angular velocity around the x y and z axes\n",
    "\n",
    "### Height [N, 1]\n",
    "\n",
    "Altitude\n",
    "\n",
    "### Time [N, 1]\n",
    "\n",
    "Given in seconds\n",
    "\n"
   ]
  },
  {
   "cell_type": "markdown",
   "metadata": {},
   "source": [
    "# Madgwick Update\n",
    "\n",
    "Calculates quaternions between the sensor frame and the earth frame using Acceleration, orbital velocity and magnetic field.\n",
    "\n",
    "## frequency [float]\n",
    "\n",
    "$f=\\frac{1}{dt}$\n",
    "\n",
    "## dt [float]\n",
    "\n",
    "time in between samples\n",
    "\n",
    "$dt = \\frac{1.0}{f}$\n",
    "\n",
    "\n",
    "## q0\n",
    "initial quaternion object.\n",
    "\n",
    "Can be unit quaternion that doesn't actually rotate anything.\n",
    "\n",
    "i = np.array([1, 0, 0, 0])\n",
    "\n",
    "quat = Quaternion(i)\n",
    "\n",
    "## Q[N-1]\n",
    "\n",
    "List of quaternions from sensor frame to earth frame for each time.\n",
    "\n",
    "\n",
    "## earthAcc [N-1, 3]\n",
    "\n",
    "acceleration vectors that have been rotated by quaternions into the earth frame. \n",
    "\n"
   ]
  },
  {
   "cell_type": "markdown",
   "metadata": {},
   "source": [
    "# Position Integration\n",
    "\n",
    "## acceleration\n",
    "\n",
    "## velocity\n",
    "\n",
    "## position"
   ]
  },
  {
   "cell_type": "markdown",
   "metadata": {},
   "source": [
    "# FFT\n",
    "\n",
    "## A_xf \n",
    "\n",
    "Complex coefficient per frequency \n",
    "\n",
    "$A_f = \\alpha + i\\beta$\n",
    "A_xf = fftpack.fft(x)\n",
    "\n",
    "\n",
    "## A_yf\n"
   ]
  },
  {
   "cell_type": "code",
   "execution_count": null,
   "metadata": {},
   "outputs": [],
   "source": [
    "fDat = {\n",
    "    'amplitude': ,\n",
    "    'alpha': ,\n",
    "    'ibeta': ,\n",
    "    \n",
    "}"
   ]
  },
  {
   "cell_type": "markdown",
   "metadata": {},
   "source": [
    "Directional Data"
   ]
  },
  {
   "cell_type": "code",
   "execution_count": null,
   "metadata": {},
   "outputs": [],
   "source": [
    "dDat = {\n",
    "    'Co-Spectra': ,\n",
    "    'Quad-Spectra': ,\n",
    "    'a1': ,\n",
    "    'a2': ,\n",
    "    'b1': ,\n",
    "    'b2': ,\n",
    "    'wave-direction': ,\n",
    "    'PSD': , \n",
    "    'G(theta, freq)': ,\n",
    "    'Directional-Spread': ,\n",
    "}"
   ]
  },
  {
   "cell_type": "markdown",
   "metadata": {},
   "source": [
    "# App"
   ]
  },
  {
   "cell_type": "code",
   "execution_count": 36,
   "metadata": {},
   "outputs": [],
   "source": [
    "app = dash.Dash(meta_tags=[{\n",
    "    \"name\": \"viewport\",\n",
    "    \"content\": \"width=device-width, initial-scale=1\"\n",
    "}],\n",
    "                external_stylesheets=[dbc.themes.LITERA])"
   ]
  },
  {
   "cell_type": "code",
   "execution_count": 37,
   "metadata": {},
   "outputs": [],
   "source": [
    "navbar = dbc.Navbar([\n",
    "    dbc.Row(\n",
    "        [dbc.Col([dbc.NavbarBrand(\"giglioq\", className=\"navbar-brand\")])])\n",
    "],\n",
    "                    color='primary',\n",
    "                    className=\"navbar navbar-expand-lg navbar-dark bg-primary\")"
   ]
  },
  {
   "cell_type": "code",
   "execution_count": 38,
   "metadata": {},
   "outputs": [],
   "source": [
    "banner = html.Div([\n",
    "    dbc.Row([\n",
    "        dbc.Col([\n",
    "            html.H5(\"Buoy\"),\n",
    "            html.H3(\"Welcome to the Buoy Project Dashboard\"),\n",
    "            html.Div(\n",
    "                id='intro',\n",
    "                children=\n",
    "                \"Getting things up and running\"\n",
    "            )\n",
    "        ],\n",
    "                width={\n",
    "                    \"size\": 10,\n",
    "                    \"offset\": 1,\n",
    "                },\n",
    "                align='center')\n",
    "    ])\n",
    "],\n",
    "                  style={\n",
    "                      'marginBottom': 20,\n",
    "                      'marginTop': 20,\n",
    "                  },\n",
    "                  id=\"banner\")"
   ]
  },
  {
   "cell_type": "code",
   "execution_count": 39,
   "metadata": {},
   "outputs": [],
   "source": [
    "plots = html.Div([])"
   ]
  },
  {
   "cell_type": "code",
   "execution_count": 40,
   "metadata": {},
   "outputs": [],
   "source": [
    "app.layout = html.Div(children=[navbar, banner, plots] )"
   ]
  },
  {
   "cell_type": "code",
   "execution_count": 41,
   "metadata": {},
   "outputs": [
    {
     "name": "stdout",
     "output_type": "stream",
     "text": [
      " * Serving Flask app \"__main__\" (lazy loading)\n",
      " * Environment: production\n",
      "   WARNING: This is a development server. Do not use it in a production deployment.\n",
      "   Use a production WSGI server instead.\n",
      " * Debug mode: off\n"
     ]
    },
    {
     "name": "stderr",
     "output_type": "stream",
     "text": [
      " * Running on http://127.0.0.1:8050/ (Press CTRL+C to quit)\n",
      "127.0.0.1 - - [11/Oct/2020 20:12:44] \"\u001b[37mGET / HTTP/1.1\u001b[0m\" 200 -\n",
      "127.0.0.1 - - [11/Oct/2020 20:12:44] \"\u001b[37mGET /_dash-component-suites/dash_renderer/react@16.8.6.min.js?v=1.1.2&m=1576595738 HTTP/1.1\u001b[0m\" 200 -\n",
      "127.0.0.1 - - [11/Oct/2020 20:12:44] \"\u001b[37mGET /_dash-component-suites/dash_renderer/prop-types@15.7.2.min.js?v=1.1.2&m=1576595738 HTTP/1.1\u001b[0m\" 200 -\n",
      "127.0.0.1 - - [11/Oct/2020 20:12:44] \"\u001b[37mGET /_dash-component-suites/dash_renderer/react-dom@16.8.6.min.js?v=1.1.2&m=1576595738 HTTP/1.1\u001b[0m\" 200 -\n",
      "127.0.0.1 - - [11/Oct/2020 20:12:44] \"\u001b[37mGET /_dash-component-suites/dash_html_components/dash_html_components.min.js?v=1.0.1&m=1576596177 HTTP/1.1\u001b[0m\" 200 -\n",
      "127.0.0.1 - - [11/Oct/2020 20:12:44] \"\u001b[37mGET /_dash-component-suites/dash_bootstrap_components/_components/dash_bootstrap_components.min.js?v=0.10.5&m=1598912906 HTTP/1.1\u001b[0m\" 200 -\n",
      "127.0.0.1 - - [11/Oct/2020 20:12:44] \"\u001b[37mGET /_dash-component-suites/dash_core_components/highlight.pack.js?v=1.3.1&m=1576595950 HTTP/1.1\u001b[0m\" 200 -\n",
      "127.0.0.1 - - [11/Oct/2020 20:12:44] \"\u001b[37mGET /_dash-component-suites/dash_core_components/dash_core_components.min.js?v=1.3.1&m=1576595950 HTTP/1.1\u001b[0m\" 200 -\n",
      "127.0.0.1 - - [11/Oct/2020 20:12:44] \"\u001b[37mGET /_dash-component-suites/dash_renderer/dash_renderer.min.js?v=1.1.2&m=1576595738 HTTP/1.1\u001b[0m\" 200 -\n",
      "127.0.0.1 - - [11/Oct/2020 20:12:45] \"\u001b[37mGET /_dash-component-suites/dash_core_components/plotly-1.50.1.min.js?v=1.3.1&m=1576595950 HTTP/1.1\u001b[0m\" 200 -\n",
      "127.0.0.1 - - [11/Oct/2020 20:12:45] \"\u001b[37mGET /_dash-layout HTTP/1.1\u001b[0m\" 200 -\n",
      "127.0.0.1 - - [11/Oct/2020 20:12:45] \"\u001b[37mGET /_dash-dependencies HTTP/1.1\u001b[0m\" 200 -\n"
     ]
    }
   ],
   "source": [
    "def open_browser():\n",
    "      webbrowser.open_new('http://127.0.0.1:8050/')\n",
    "\n",
    "if __name__ == '__main__':\n",
    "    Timer(1, open_browser).start();\n",
    "    app.run_server(debug=False)  "
   ]
  },
  {
   "cell_type": "code",
   "execution_count": null,
   "metadata": {},
   "outputs": [],
   "source": []
  },
  {
   "cell_type": "code",
   "execution_count": null,
   "metadata": {},
   "outputs": [],
   "source": []
  },
  {
   "cell_type": "code",
   "execution_count": null,
   "metadata": {},
   "outputs": [],
   "source": []
  }
 ],
 "metadata": {
  "kernelspec": {
   "display_name": "Python 3",
   "language": "python",
   "name": "python3"
  },
  "language_info": {
   "codemirror_mode": {
    "name": "ipython",
    "version": 3
   },
   "file_extension": ".py",
   "mimetype": "text/x-python",
   "name": "python",
   "nbconvert_exporter": "python",
   "pygments_lexer": "ipython3",
   "version": "3.8.3"
  },
  "latex_envs": {
   "LaTeX_envs_menu_present": true,
   "autoclose": false,
   "autocomplete": true,
   "bibliofile": "biblio.bib",
   "cite_by": "apalike",
   "current_citInitial": 1,
   "eqLabelWithNumbers": true,
   "eqNumInitial": 1,
   "hotkeys": {
    "equation": "Ctrl-E",
    "itemize": "Ctrl-I"
   },
   "labels_anchors": false,
   "latex_user_defs": false,
   "report_style_numbering": false,
   "user_envs_cfg": false
  }
 },
 "nbformat": 4,
 "nbformat_minor": 4
}
