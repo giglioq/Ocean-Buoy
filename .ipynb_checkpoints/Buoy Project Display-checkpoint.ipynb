{
 "cells": [
  {
   "cell_type": "code",
   "execution_count": null,
   "metadata": {},
   "outputs": [],
   "source": [
    "import numpy as np\n",
    "import pandas as pd\n",
    "from scipy import signal\n",
    "import matplotlib.pyplot as plt\n",
    "import seaborn as sns\n",
    "sns.set_context(\"paper\", font_scale=1.3, rc={\"lines.linewidth\": 2.5})\n",
    "%matplotlib inline\n",
    "plt.style.use('seaborn-pastel')"
   ]
  },
  {
   "cell_type": "code",
   "execution_count": null,
   "metadata": {},
   "outputs": [],
   "source": [
    "import dash\n",
    "import dash_bootstrap_components as dbc\n",
    "import dash_html_components as html\n",
    "import dash_core_components as dcc\n",
    "from dash.dependencies import Input, Output, State\n",
    "import webbrowser\n",
    "from threading import Timer"
   ]
  },
  {
   "cell_type": "code",
   "execution_count": null,
   "metadata": {
    "scrolled": true
   },
   "outputs": [],
   "source": [
    "from mayavi import mlab \n",
    "mlab.init_notebook('ipy', 500, 500)\n",
    "%gui qt"
   ]
  },
  {
   "cell_type": "code",
   "execution_count": null,
   "metadata": {},
   "outputs": [],
   "source": [
    "from buoy_methods import *"
   ]
  },
  {
   "cell_type": "code",
   "execution_count": null,
   "metadata": {},
   "outputs": [],
   "source": [
    "q1 = Quaternion(0.55747131, 0.12956903, 0.5736954 , 0.58592763)\n",
    "q2 = Quaternion(0.49753507, 0.50806522, 0.52711628, 0.4652709)\n",
    "\n",
    "print(q1*q2)\n",
    "# expect '(-0.3635 +0.3896i +0.3419j +0.7740k)'  we get the normalized version of this\n",
    "\n",
    "q3 = q1*q2"
   ]
  },
  {
   "cell_type": "markdown",
   "metadata": {},
   "source": [
    "# Raw Data\n",
    "\n",
    "### Acceleration [N, 3]\n",
    "x, y, and z acceleration in the sensor frame\n",
    "\n",
    "### Magnetic Field [N, 3]\n",
    "\n",
    "x, y, z strength of the magnetic field in the sensor frame\n",
    "\n",
    "### Angular Velocity [N, 3]\n",
    "\n",
    "x, y, z angular velocity around the x y and z axes\n",
    "\n",
    "### Height [N, 1]\n",
    "\n",
    "Altitude\n",
    "\n",
    "### Time [N, 1]\n",
    "\n",
    "Given in seconds\n",
    "\n"
   ]
  },
  {
   "cell_type": "raw",
   "metadata": {},
   "source": [
    "def make_fake_data(n):\n",
    "    labels = ['ax','ay','az','bx','by','bz','wx','wy','wz','h','t']\n",
    "    df = pd.DataFrame(columns=labels)\n",
    "    t = np.linspace(0, 1, n)*100\n",
    "    noise = np.random.normal(0,1,n)\n",
    "    df.t = t\n",
    "    df.ax = np.sin(t*.3)*50\n",
    "    df.ay = [0]*n\n",
    "    df.az = [-10]*n\n",
    "    df.bx = [1]*n\n",
    "    df.by = [0]*n\n",
    "    df.bz = [0]*n\n",
    "    df.wx = [0]*n #+ np.random.normal(0,1,n)\n",
    "    df.wy = [0]*n\n",
    "    df.wz = [1]*n\n",
    "    df.h = [3.33]*n\n",
    "    df.to_excel(\"data/fake_data.xlsx\")\n",
    "    return df\n",
    "    \n",
    "df = make_fake_data(1024)\n",
    "print(df.head())\n",
    "print(df.info())\n",
    "df.drop('t',axis=1).plot()"
   ]
  },
  {
   "cell_type": "raw",
   "metadata": {
    "scrolled": false
   },
   "source": [
    "df = pd.read_csv(\"data/first data with circuit in buoy.csv\")\n",
    "print(df.head())\n",
    "print(df.info())\n",
    "df.drop('t',axis=1).plot()"
   ]
  },
  {
   "cell_type": "code",
   "execution_count": null,
   "metadata": {},
   "outputs": [],
   "source": [
    "df  =  pd.read_csv(\"data/first quaternion data.csv\")\n",
    "print(df.head())\n",
    "print(df.info())\n",
    "df.drop('t',axis=1).plot()"
   ]
  },
  {
   "cell_type": "code",
   "execution_count": null,
   "metadata": {
    "cell_style": "split"
   },
   "outputs": [],
   "source": [
    "i=1\n",
    "while i:\n",
    "    try:\n",
    "        df = df.apply(signal.savgol_filter, args=(53,6)) #x, window_length, polyorder,\n",
    "    except:\n",
    "        continue\n",
    "    i=0\n",
    "df.drop('t',axis=1).plot()"
   ]
  },
  {
   "cell_type": "markdown",
   "metadata": {
    "cell_style": "split"
   },
   "source": [
    "Further smoothing is possible with a rolling average. This makes things very smooth but at the cost of amplitude data"
   ]
  },
  {
   "cell_type": "code",
   "execution_count": null,
   "metadata": {
    "cell_style": "split"
   },
   "outputs": [],
   "source": [
    "df = df.rolling(30).mean()\n",
    "df.drop('t',axis=1).plot()"
   ]
  },
  {
   "cell_type": "code",
   "execution_count": null,
   "metadata": {},
   "outputs": [],
   "source": [
    "df.dropna(inplace=True)"
   ]
  },
  {
   "cell_type": "markdown",
   "metadata": {},
   "source": [
    "# Madgwick Update\n",
    "\n",
    "Calculates quaternions between the sensor frame and the earth frame using Acceleration, orbital velocity and magnetic field. The purpose of this filter is to find the orientation of the buoy relative to the surface of the water/earth over time. \n",
    "\n",
    "IMU - Inertial Measurement Unit\n",
    "This project uses an Adafruit BNO055 IMU \n",
    "\n",
    "MARG - Magnetic, Angular Rate,and Gravity\n",
    "\n",
    "${}^A_B{\\bf q}$ Describes the orientation of frame B relative to frame A.\n",
    "Where ${\\bf q} = [ q_1, q_2, q_3, q_4] = [w, x, y, z]$\n",
    "\n",
    "\n",
    "This filter finds ${}^S_E{\\bf \\hat{q}}_{est, t}$ earth frame relative to the sensor.\n",
    "\n",
    "To rotate a vector from one frame insert a zero in the first element so you have a 4 element row vector. Then perform the following quaternion product\n",
    "$$\n",
    "{}^B\\mathcal{v} = {}^A_B{\\bf q} \\otimes {}^A\\mathcal{v}  \\otimes {}^A_B{\\bf q}^*\n",
    "$$\n",
    "\n",
    "${}^A\\mathcal{v}$ and ${}^B\\mathcal{v}$ are the same vector described in frame A and frame B with a zero inserted in the first element. "
   ]
  },
  {
   "cell_type": "code",
   "execution_count": null,
   "metadata": {},
   "outputs": [],
   "source": [
    "q1 = Quaternion(0.55747131, 0.12956903, 0.5736954 , 0.58592763)\n",
    "q2 = Quaternion(0.49753507, 0.50806522, 0.52711628, 0.4652709)\n",
    "print(q1*q2)\n",
    "# expect '(-0.3635 +0.3896i +0.3419j +0.7740k)'  we get the normalized version of this"
   ]
  },
  {
   "cell_type": "code",
   "execution_count": null,
   "metadata": {},
   "outputs": [],
   "source": [
    "q = Quaternion(1, 0, 0, 1)\n",
    "r = [2, 0, 0]\n",
    "l = q.rotate_vector(r) #do it\n",
    "#l = q.conjugate().rotate_vector(l) # undoit\n",
    "#l = l*1.1\n",
    "\n",
    "x = [0,0,0,0,0]\n",
    "y = [0,0,0,0,0]\n",
    "z = [0,0,0,0,0]\n",
    "u = [.5,0,0,r[0],l[0]]\n",
    "v = [0,.6,0,r[1],l[1]]\n",
    "w = [0,0,.5,r[2],l[2]]\n",
    "\n",
    "    \n",
    "fig = mlab.figure(bgcolor=(1, 1, 1),fgcolor=(0.1, 0.1, 0.1))\n",
    "mlab.axes(color=(0,0,0),figure=fig)\n",
    "obj = mlab.quiver3d(x, y, z, u, v, w, line_width=3, scale_factor=1, figure=fig)\n",
    "mlab.outline(color=(0,0,0))\n",
    "mlab.xlabel(\"x\",object=obj)\n",
    "mlab.ylabel(\"y\",object=obj)\n",
    "mlab.zlabel(\"z\",object=obj)\n",
    "mlab.title('Quaternion Rotations',figure=fig)\n"
   ]
  },
  {
   "cell_type": "code",
   "execution_count": null,
   "metadata": {},
   "outputs": [],
   "source": [
    "l"
   ]
  },
  {
   "cell_type": "code",
   "execution_count": null,
   "metadata": {},
   "outputs": [],
   "source": [
    "q = Quaternion(1, 0, 0, 1)\n",
    "r = [1, 0, 0]\n",
    "f = q*Quaternion([0,1,0,0])*q.conjugate()\n",
    "f.q"
   ]
  },
  {
   "cell_type": "markdown",
   "metadata": {},
   "source": [
    "## frequency [float]\n",
    "\n",
    "$f=\\frac{1}{dt}$\n",
    "\n",
    "## dt [float]\n",
    "\n",
    "time in between samples\n",
    "\n",
    "$dt = \\frac{1.0}{f}$\n",
    "\n",
    "\n",
    "## q0 [Quaternion]\n",
    "initial quaternion object.\n",
    "\n",
    "$q = [w,x,y,z]$\n",
    "\n",
    "Can be unit quaternion that doesn't actually rotate anything.\n",
    "\n",
    "i = np.array([1, 0, 0, 0])\n",
    "\n",
    "quat = Quaternion(i)\n",
    "\n",
    "\n",
    "## Q[N-1]\n",
    "\n",
    "List of quaternions from sensor frame to earth frame for each time.\n",
    "\n",
    "\n",
    "## earthAcc [N-1, 3]\n",
    "\n",
    "acceleration vectors that have been rotated by quaternions into the earth frame. "
   ]
  },
  {
   "cell_type": "code",
   "execution_count": null,
   "metadata": {},
   "outputs": [],
   "source": [
    "acc = df.iloc[:,1:4].to_numpy()\n",
    "gyr = df.iloc[:,4:7].to_numpy()\n",
    "mag = df.iloc[:,7:10].to_numpy()"
   ]
  },
  {
   "cell_type": "code",
   "execution_count": null,
   "metadata": {},
   "outputs": [],
   "source": []
  },
  {
   "cell_type": "code",
   "execution_count": null,
   "metadata": {},
   "outputs": [],
   "source": [
    "sample_period = 0.3 # s\n",
    "freq= 1/sample_period\n",
    "\n",
    "m = Madgwick(acc=acc, gyr=gyr,mag=mag,frequency=freq)\n",
    "\n",
    "fig, ax = plt.subplots()\n",
    "ax.plot(m.earthAcc[:,0], label='ax')\n",
    "ax.plot(m.earthAcc[:,1], label='ay')\n",
    "ax.plot(m.earthAcc[:,2], label='az')\n",
    "ax.set_title(\"Angle Adjusted Acceleration in earth frame\")\n",
    "ax.set_xlabel(\"Time\")\n",
    "ax.set_ylabel(r\"$m/s^2$\")\n",
    "ax.legend()"
   ]
  },
  {
   "cell_type": "markdown",
   "metadata": {},
   "source": [
    "# Fixes\n",
    "\n",
    "We should be seeing much more stable data here given our sample. The problem is clearly in the madgwick filter\n",
    "\n",
    "Look for example data."
   ]
  },
  {
   "cell_type": "code",
   "execution_count": null,
   "metadata": {},
   "outputs": [],
   "source": [
    "#m.earthAcc[:,2] += -10 # goodbye gravity"
   ]
  },
  {
   "cell_type": "code",
   "execution_count": null,
   "metadata": {},
   "outputs": [],
   "source": [
    "\n",
    "df.qw.iloc[2]"
   ]
  },
  {
   "cell_type": "code",
   "execution_count": null,
   "metadata": {},
   "outputs": [],
   "source": [
    "Q = []\n",
    "for i in range(len(df.qx)):\n",
    "    Q.append(Quaternion([df.qw.iloc[i],df.qx.iloc[i],df.qy.iloc[i],df.qz.iloc[i]]))"
   ]
  },
  {
   "cell_type": "code",
   "execution_count": null,
   "metadata": {},
   "outputs": [],
   "source": [
    "acc"
   ]
  },
  {
   "cell_type": "code",
   "execution_count": null,
   "metadata": {
    "scrolled": false
   },
   "outputs": [],
   "source": [
    "fig, ax = plt.subplots()\n",
    "ax.plot(m.earthAcc[:,0], label='ax')\n",
    "ax.plot(m.earthAcc[:,1], label='ay')\n",
    "ax.plot(m.earthAcc[:,2], label='az')\n",
    "ax.set_title(\"gravity Adjusted Acceleration in earth frame\")\n",
    "ax.set_xlabel(\"Time\")\n",
    "ax.set_ylabel(r\"$m/s^2$\")\n",
    "ax.legend()"
   ]
  },
  {
   "cell_type": "code",
   "execution_count": null,
   "metadata": {},
   "outputs": [],
   "source": [
    "plt.plot(m.earthAcc[:, 0])"
   ]
  },
  {
   "cell_type": "code",
   "execution_count": null,
   "metadata": {},
   "outputs": [],
   "source": [
    "sum(np.isnan(m.earthAcc[:, 0]))"
   ]
  },
  {
   "cell_type": "code",
   "execution_count": null,
   "metadata": {},
   "outputs": [],
   "source": [
    "ea = pd.DataFrame(m.earthAcc).dropna()"
   ]
  },
  {
   "cell_type": "code",
   "execution_count": null,
   "metadata": {},
   "outputs": [],
   "source": [
    "ea.values"
   ]
  },
  {
   "cell_type": "code",
   "execution_count": null,
   "metadata": {
    "scrolled": false
   },
   "outputs": [],
   "source": [
    "from scipy.integrate import cumtrapz\n",
    "\n",
    "v = cumtrapz(ea[0].values)\n",
    "plt.plot(v)"
   ]
  },
  {
   "cell_type": "markdown",
   "metadata": {},
   "source": [
    "# Position Integration\n",
    "\n",
    "Use scipy.integrate.cumptrapz which is a python iplementation of the trapezoidal method. \n",
    "\n",
    "\n",
    "scipy.integrate.cumtrapz(y, x=None, dx=1.0, axis=- 1, initial=None)[source]\n",
    "Cumulatively integrate y(x) using the composite trapezoidal rule.\n",
    "\n",
    "Parameters:\n",
    "\n",
    "y: array_like\n",
    "\n",
    "Values to integrate.\n",
    "\n",
    "x: array_like, optional\n",
    "\n",
    "The coordinate to integrate along. If None (default), use spacing dx between consecutive elements in y.\n",
    "\n",
    "dx: float, optional\n",
    "\n",
    "Spacing between elements of y. Only used if x is None.\n",
    "\n",
    "axis: int, optional\n",
    "\n",
    "Specifies the axis to cumulate. Default is -1 (last axis).\n",
    "\n",
    "initial: scalar, optional\n",
    "\n",
    "If given, insert this value at the beginning of the returned result. Typically this value should be 0. Default is None, which means no value at x[0] is returned and res has one element less than y along the axis of integration.\n",
    "\n",
    "Returns:\n",
    "\n",
    "res: ndarray\n",
    "\n",
    "The result of cumulative integration of y along axis. If initial is None, the shape is such that the axis of integration has one less value than y. If initial is given, the shape is equal to that of y.\n",
    "\n",
    "$$\n",
    "v(t) = \\int_t^{t+1} a(t) dt \\approx \\frac{a(t_i) + a(t_{i+1})}{2}\\Delta t_{i+1}\n",
    "$$\n",
    "\n",
    "\n",
    "## acceleration [3,N]\n",
    "\n",
    "\n",
    "## velocity [3, N-1]\n",
    "\n",
    "\n",
    "\n",
    "\n",
    "## position [3,N-2]"
   ]
  },
  {
   "cell_type": "code",
   "execution_count": null,
   "metadata": {
    "scrolled": false
   },
   "outputs": [],
   "source": [
    "position = get_position(ea.values,m.dt)\n",
    "position.columns= ['x','y','z']\n",
    "position.plot()"
   ]
  },
  {
   "cell_type": "raw",
   "metadata": {},
   "source": [
    "position.x += np.sin(0.3*position.index.values)*1000\n",
    "position.y += np.cos(0.1*position.index.values)*1000\n",
    "\n",
    "position.plot()"
   ]
  },
  {
   "cell_type": "markdown",
   "metadata": {},
   "source": [
    "# Fourier Transforms\n",
    "\n",
    "## Discrete Fourier Transforms\n",
    "Given a set of sampled data you can apply the transform on the vector by multiplying it by matrices. \n",
    "This will give you a set of coefficients for each frequency in the data up to the nth frequency possible for n data points.\n",
    "\n",
    "the nth frequency coefficient \n",
    "$$\n",
    "\\hat{f_k} = \\sum_{j=0}^{n-1} f_je^{-i2\\pi jk/n}\n",
    "$$\n",
    "\n",
    "Where:\n",
    "\n",
    "* n is the number of samples\n",
    "* j = current sample\n",
    "* $f_j$ = value of the signal at time n\n",
    "* k = current frequency (0 Hz to N-1 Hz)\n",
    "* $\\hat{f_k}$ = result of DFT amplitude and phase\n",
    "\n",
    "\n",
    "To reconstruct the data from the coefficients\n",
    "$$\n",
    "f_k = \\bigg(\\sum_{j=0}^{n-1} \\hat{f_j}e^{i2\\pi jk/n}\\bigg)\\frac{1}{n}\n",
    "$$\n",
    "\n",
    "The DFT takes the sample as a vector and returns the coefficients as a vector. The data has to start with a zero index.\n",
    "$$\n",
    "\\{f_0, f_1,f_2 ...f_n\\} \\implies \\{\\hat{f_0},\\hat{f_1},\\hat{f_2}...\\hat{f_n}\\}\n",
    "$$\n",
    "\n",
    "There is a fundamental frequency:\n",
    "$$\n",
    "\\omega_n = e^{-i2\\pi /n}\n",
    "$$\n",
    "\n",
    "This frequency can be used to form a DFT matrix. \n",
    "Given in complex numbers so that the magnitude and phase are communicated through the coeffs\n",
    "\n",
    "## Fast Fourier Transforms\n",
    "\n",
    "A technique for computing the DFT. An Algorithm. Clever and faster. \n",
    "\n",
    "Like the Discrete Fourier Transform $(N^2)$\n",
    "\n",
    "But over small chunks and $(N\\log_2 N)$\n",
    "\n",
    "Standard use.\n",
    "\n",
    "\n",
    "# Scipy\n",
    "\n",
    "Has Function scipy.fftpack.fft\n",
    "\n",
    "## A_xf , A_yf, A_zf\n",
    "\n",
    "Complex coefficient per frequency \n",
    "\n",
    "$A_f = \\alpha + i\\beta$\n",
    "\n",
    "\n",
    "A_xf = fftpack.fft(x)\n",
    "\n",
    "\n",
    "\n",
    "\n",
    "## D\n",
    "Normalized Directional Distribution per frequency\n",
    "\n",
    "$$\n",
    "D (\\theta, f) = \\frac{1}{\\pi}\\bigg\\{\\frac{1}{2} + a_1 \\cos\\theta + b_1\\sin\\theta + a_2\\cos 2\\theta+ b_2 \\sin 2\\theta + ...\\bigg\\}\n",
    "$$\n",
    "\n",
    "Columns are frequencies\n",
    "\n",
    "Rows are angles"
   ]
  },
  {
   "cell_type": "code",
   "execution_count": null,
   "metadata": {
    "cell_style": "split",
    "scrolled": true
   },
   "outputs": [],
   "source": [
    "D, A, C, Q = frequency_analysis(position,dt=m.dt)"
   ]
  },
  {
   "cell_type": "code",
   "execution_count": null,
   "metadata": {
    "cell_style": "center"
   },
   "outputs": [],
   "source": [
    "D.plot(legend=False)"
   ]
  },
  {
   "cell_type": "code",
   "execution_count": null,
   "metadata": {
    "cell_style": "center",
    "scrolled": false
   },
   "outputs": [],
   "source": [
    "D.head()"
   ]
  },
  {
   "cell_type": "code",
   "execution_count": null,
   "metadata": {
    "cell_style": "center"
   },
   "outputs": [],
   "source": [
    "D.max().nlargest()"
   ]
  },
  {
   "cell_type": "code",
   "execution_count": null,
   "metadata": {
    "cell_style": "split"
   },
   "outputs": [],
   "source": [
    "plt.polar(D[D.max().nlargest().keys()].iloc[:,0])  #default nlargest picks 5\n",
    "plt.polar(D[D.max().nlargest().keys()].iloc[:,1])\n",
    "plt.polar(D[D.max().nlargest().keys()].iloc[:,2])\n",
    "plt.polar(D[D.max().nlargest().keys()].iloc[:,3])\n",
    "plt.polar(D[D.max().nlargest().keys()].iloc[:,4])"
   ]
  },
  {
   "cell_type": "code",
   "execution_count": null,
   "metadata": {
    "cell_style": "split"
   },
   "outputs": [],
   "source": [
    "D0 = np.arctan2(-Q.xz,Q.yz)\n",
    "D0.index.name = r'frequency'"
   ]
  },
  {
   "cell_type": "code",
   "execution_count": null,
   "metadata": {
    "cell_style": "split"
   },
   "outputs": [],
   "source": [
    "D0.plot()"
   ]
  },
  {
   "cell_type": "markdown",
   "metadata": {},
   "source": [
    "# Frequency Domain\n",
    "\n",
    "this needs fftshift"
   ]
  },
  {
   "cell_type": "code",
   "execution_count": null,
   "metadata": {},
   "outputs": [],
   "source": [
    "A.abs().plot()"
   ]
  },
  {
   "cell_type": "code",
   "execution_count": null,
   "metadata": {
    "cell_style": "split"
   },
   "outputs": [],
   "source": [
    "A[0:50].abs().plot()"
   ]
  },
  {
   "cell_type": "code",
   "execution_count": null,
   "metadata": {
    "cell_style": "split"
   },
   "outputs": [],
   "source": [
    "A[1000:1024].abs().plot()"
   ]
  },
  {
   "cell_type": "code",
   "execution_count": null,
   "metadata": {},
   "outputs": [],
   "source": [
    "A"
   ]
  },
  {
   "cell_type": "raw",
   "metadata": {},
   "source": [
    "fDat = {\n",
    "    'amplitude': ,\n",
    "    'alpha': ,\n",
    "    'ibeta': ,\n",
    "    \n",
    "}"
   ]
  },
  {
   "cell_type": "markdown",
   "metadata": {},
   "source": [
    "Directional Data"
   ]
  },
  {
   "cell_type": "raw",
   "metadata": {},
   "source": [
    "dDat = {\n",
    "    'Co-Spectra': ,\n",
    "    'Quad-Spectra': ,\n",
    "    'a1': ,\n",
    "    'a2': ,\n",
    "    'b1': ,\n",
    "    'b2': ,\n",
    "    'wave-direction': ,\n",
    "    'PSD': , \n",
    "    'G(theta, freq)': ,\n",
    "    'Directional-Spread': ,\n",
    "}"
   ]
  },
  {
   "cell_type": "markdown",
   "metadata": {},
   "source": [
    "# App"
   ]
  },
  {
   "cell_type": "raw",
   "metadata": {},
   "source": [
    "app = dash.Dash(meta_tags=[{\n",
    "    \"name\": \"viewport\",\n",
    "    \"content\": \"width=device-width, initial-scale=1\"\n",
    "}],\n",
    "                external_stylesheets=[dbc.themes.LITERA])"
   ]
  },
  {
   "cell_type": "raw",
   "metadata": {},
   "source": [
    "navbar = dbc.Navbar([\n",
    "    dbc.Row(\n",
    "        [dbc.Col([dbc.NavbarBrand(\"giglioq\", className=\"navbar-brand\")])])\n",
    "],\n",
    "                    color='primary',\n",
    "                    className=\"navbar navbar-expand-lg navbar-dark bg-primary\")"
   ]
  },
  {
   "cell_type": "raw",
   "metadata": {},
   "source": [
    "banner = html.Div([\n",
    "    dbc.Row([\n",
    "        dbc.Col([\n",
    "            html.H5(\"Buoy\"),\n",
    "            html.H3(\"Welcome to the Buoy Project Dashboard\"),\n",
    "            html.Div(\n",
    "                id='intro',\n",
    "                children=\n",
    "                \"Getting things up and running\"\n",
    "            )\n",
    "        ],\n",
    "                width={\n",
    "                    \"size\": 10,\n",
    "                    \"offset\": 1,\n",
    "                },\n",
    "                align='center')\n",
    "    ])\n",
    "],\n",
    "                  style={\n",
    "                      'marginBottom': 20,\n",
    "                      'marginTop': 20,\n",
    "                  },\n",
    "                  id=\"banner\")"
   ]
  },
  {
   "cell_type": "raw",
   "metadata": {},
   "source": [
    "plots = html.Div([])"
   ]
  },
  {
   "cell_type": "raw",
   "metadata": {},
   "source": [
    "app.layout = html.Div(children=[navbar, banner, plots] )"
   ]
  },
  {
   "cell_type": "raw",
   "metadata": {},
   "source": [
    "def open_browser():\n",
    "      webbrowser.open_new('http://127.0.0.1:8050/')\n",
    "\n",
    "if __name__ == '__main__':\n",
    "    Timer(1, open_browser).start();\n",
    "    app.run_server(debug=False)  "
   ]
  }
 ],
 "metadata": {
  "kernelspec": {
   "display_name": "Python 3",
   "language": "python",
   "name": "python3"
  },
  "language_info": {
   "codemirror_mode": {
    "name": "ipython",
    "version": 3
   },
   "file_extension": ".py",
   "mimetype": "text/x-python",
   "name": "python",
   "nbconvert_exporter": "python",
   "pygments_lexer": "ipython3",
   "version": "3.8.3"
  },
  "latex_envs": {
   "LaTeX_envs_menu_present": false,
   "autoclose": false,
   "autocomplete": true,
   "bibliofile": "biblio.bib",
   "cite_by": "apalike",
   "current_citInitial": 1,
   "eqLabelWithNumbers": true,
   "eqNumInitial": 1,
   "hotkeys": {
    "equation": "Ctrl-E",
    "itemize": "Ctrl-I"
   },
   "labels_anchors": false,
   "latex_user_defs": false,
   "report_style_numbering": false,
   "user_envs_cfg": false
  }
 },
 "nbformat": 4,
 "nbformat_minor": 4
}
